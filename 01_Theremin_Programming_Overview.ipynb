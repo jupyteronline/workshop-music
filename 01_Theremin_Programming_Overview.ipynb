{
 "cells": [
  {
   "cell_type": "markdown",
   "metadata": {
    "slideshow": {
     "slide_type": "slide"
    }
   },
   "source": [
    "# Theremin: where art and science converge"
   ]
  },
  {
   "cell_type": "code",
   "execution_count": null,
   "metadata": {
    "slideshow": {
     "slide_type": "slide"
    }
   },
   "outputs": [],
   "source": [
    "\"\"\"\"\n",
    "Adafruit Trinket/Gemma Example: Simple Theramin\n",
    "\n",
    "Original code: Adafruit\n",
    "Modified by: Carol Willing\n",
    "\n",
    "Read the voltage from a Cadmium Sulfide (CdS) photocell voltage\n",
    "divider and output a corresponding tone to a piezo buzzer\n",
    "\n",
    "Photocell voltage divider center wire to GPIO #2 (analog 1)\n",
    "and output tone to GPIO #0 (digital 0)\n",
    "\"\"\"\n",
    "import board\n",
    "import pulseio\n",
    "import analogio\n",
    "import time\n",
    "\n",
    "photocell_pin = board.A1  # CdS photocell connected to this ANALOG pin\n",
    "speaker_pin   = board.D0  # Speaker is connected to this DIGITAL pin\n",
    "scale         = 0.03      # Change this to adjust tone scale\n",
    "\n",
    "# Initialize input/output pins\n",
    "photocell = analogio.AnalogIn(photocell_pin)\n",
    "pwm       = pulseio.PWMOut(speaker_pin, variable_frequency=True, duty_cycle=0)\n",
    "\n",
    "while True:  # Loop forever...\n",
    "   # Read photocell analog pin and convert voltage to frequency\n",
    "   pwm.frequency  = 220 + int(scale * float(photocell.value))\n",
    "   pwm.duty_cycle = 32767  # 50% duty cycle\n",
    "   time.sleep(0.4)         # Play for 400 ms (adjust to your liking)\n",
    "   pwm.duty_cycle = 0      # Stop playing\n",
    "   time.sleep(0.05)        # Delay 50 ms between notes (also adjustable)"
   ]
  },
  {
   "cell_type": "markdown",
   "metadata": {
    "slideshow": {
     "slide_type": "slide"
    }
   },
   "source": [
    "# Programming\n",
    "\n",
    "Yes, you can!"
   ]
  },
  {
   "cell_type": "markdown",
   "metadata": {
    "slideshow": {
     "slide_type": "slide"
    }
   },
   "source": [
    "# Docstrings\n",
    "\n",
    "Notes and information for Humans"
   ]
  },
  {
   "cell_type": "code",
   "execution_count": null,
   "metadata": {
    "slideshow": {
     "slide_type": "fragment"
    }
   },
   "outputs": [],
   "source": [
    "\"\"\"\"\n",
    "Adafruit Trinket/Gemma Example: Simple Theramin\n",
    "\n",
    "Original code: Adafruit\n",
    "Modified by: Carol Willing\n",
    "\n",
    "Read the voltage from a Cadmium Sulfide (CdS) photocell voltage\n",
    "divider and output a corresponding tone to a piezo buzzer\n",
    "\n",
    "Photocell voltage divider center wire to GPIO #2 (analog 1)\n",
    "and output tone to GPIO #0 (digital 0)\n",
    "\"\"\""
   ]
  },
  {
   "cell_type": "markdown",
   "metadata": {
    "slideshow": {
     "slide_type": "slide"
    }
   },
   "source": [
    "# Import\n",
    "\n",
    "The libraries that the computer will use.\n",
    "\n",
    "Similar to ingredients in a cooking recipe."
   ]
  },
  {
   "cell_type": "code",
   "execution_count": null,
   "metadata": {
    "slideshow": {
     "slide_type": "fragment"
    }
   },
   "outputs": [],
   "source": [
    "import board\n",
    "import pulseio\n",
    "import analogio\n",
    "import time"
   ]
  },
  {
   "cell_type": "markdown",
   "metadata": {
    "slideshow": {
     "slide_type": "slide"
    }
   },
   "source": [
    "# Variables - names\n",
    "\n",
    "Giving nicknames to parts and data.\n",
    "\n",
    "For example, `speaker_pin` represents the Digital pin 0 on our circuitboard.\n",
    "It's much friendlier to call it the name `speaker_pin` than `board.D0`.\n",
    "\n",
    "`board.D0` yoo-hoo, `board.D0` wake up, `board.D0` make some noise."
   ]
  },
  {
   "cell_type": "markdown",
   "metadata": {
    "slideshow": {
     "slide_type": "slide"
    }
   },
   "source": [
    "Let's try something...\n",
    "\n",
    "- `board.D3` start\n",
    "- `board.D3` stop\n",
    "- `board.D3` sleep\n",
    "- `board.D3` wakeup"
   ]
  },
  {
   "cell_type": "markdown",
   "metadata": {
    "slideshow": {
     "slide_type": "slide"
    }
   },
   "source": [
    "Twenty questions...\n",
    "\n",
    "Is `board.D3` the speaker or a motor or a light or the **off** switch?"
   ]
  },
  {
   "cell_type": "code",
   "execution_count": null,
   "metadata": {
    "slideshow": {
     "slide_type": "slide"
    }
   },
   "outputs": [],
   "source": [
    "photocell_pin = board.A1  # CdS photocell connected to this ANALOG pin\n",
    "speaker_pin   = board.D0  # Speaker is connected to this DIGITAL pin\n",
    "scale         = 0.03      # Change this to adjust tone scale"
   ]
  },
  {
   "cell_type": "markdown",
   "metadata": {
    "slideshow": {
     "slide_type": "slide"
    }
   },
   "source": [
    "# Variables - Representing an Object\n",
    "\n"
   ]
  },
  {
   "cell_type": "code",
   "execution_count": null,
   "metadata": {
    "slideshow": {
     "slide_type": "fragment"
    }
   },
   "outputs": [],
   "source": [
    "# Initialize input/output pins\n",
    "photocell = analogio.AnalogIn(photocell_pin)\n",
    "pwm       = pulseio.PWMOut(speaker_pin, variable_frequency=True, duty_cycle=0)"
   ]
  },
  {
   "cell_type": "markdown",
   "metadata": {
    "slideshow": {
     "slide_type": "slide"
    }
   },
   "source": [
    "# Action"
   ]
  },
  {
   "cell_type": "code",
   "execution_count": null,
   "metadata": {
    "scrolled": true,
    "slideshow": {
     "slide_type": "fragment"
    }
   },
   "outputs": [],
   "source": [
    "while True:  # Loop forever...\n",
    "   # Read photocell analog pin and convert voltage to frequency\n",
    "   pwm.frequency  = 220 + int(scale * float(photocell.value))\n",
    "   pwm.duty_cycle = 32767  # 50% duty cycle\n",
    "   time.sleep(0.4)         # Play for 400 ms (adjust to your liking)\n",
    "   pwm.duty_cycle = 0      # Stop playing\n",
    "   time.sleep(0.05)        # Delay 50 ms between notes (also adjustable)"
   ]
  },
  {
   "cell_type": "markdown",
   "metadata": {
    "slideshow": {
     "slide_type": "slide"
    }
   },
   "source": [
    "# Explore"
   ]
  },
  {
   "cell_type": "markdown",
   "metadata": {
    "slideshow": {
     "slide_type": "slide"
    }
   },
   "source": [
    "## What happens if... sleep?"
   ]
  },
  {
   "cell_type": "code",
   "execution_count": 15,
   "metadata": {
    "slideshow": {
     "slide_type": "fragment"
    }
   },
   "outputs": [],
   "source": [
    "# sleep \n",
    "# change the value inside time.sleep({# of milliseconds})"
   ]
  },
  {
   "cell_type": "code",
   "execution_count": null,
   "metadata": {
    "slideshow": {
     "slide_type": "subslide"
    }
   },
   "outputs": [],
   "source": [
    "while True:  # Loop forever...\n",
    "   # Read photocell analog pin and convert voltage to frequency\n",
    "   pwm.frequency  = 220 + int(scale * float(photocell.value))\n",
    "   pwm.duty_cycle = 32767  # 50% duty cycle\n",
    "   time.sleep(0.4)         # Play for 400 ms (adjust to your liking)\n",
    "   pwm.duty_cycle = 0      # Stop playing\n",
    "   time.sleep(0.05)        # Delay 50 ms between notes (also adjustable)"
   ]
  },
  {
   "cell_type": "code",
   "execution_count": null,
   "metadata": {
    "slideshow": {
     "slide_type": "skip"
    }
   },
   "outputs": [],
   "source": []
  },
  {
   "cell_type": "markdown",
   "metadata": {
    "slideshow": {
     "slide_type": "slide"
    }
   },
   "source": [
    "## What happens if... frequency changes?"
   ]
  },
  {
   "cell_type": "code",
   "execution_count": null,
   "metadata": {
    "slideshow": {
     "slide_type": "fragment"
    }
   },
   "outputs": [],
   "source": [
    "# frequency\n",
    "# 220 Hz \n",
    "# What if we start with 1000 Hz?"
   ]
  },
  {
   "cell_type": "code",
   "execution_count": null,
   "metadata": {
    "slideshow": {
     "slide_type": "subslide"
    }
   },
   "outputs": [],
   "source": [
    "while True:  # Loop forever...\n",
    "   # Read photocell analog pin and convert voltage to frequency\n",
    "   pwm.frequency  = 220 + int(scale * float(photocell.value))\n",
    "   pwm.duty_cycle = 32767  # 50% duty cycle\n",
    "   time.sleep(0.4)         # Play for 400 ms (adjust to your liking)\n",
    "   pwm.duty_cycle = 0      # Stop playing\n",
    "   time.sleep(0.05)        # Delay 50 ms between notes (also adjustable)"
   ]
  },
  {
   "cell_type": "code",
   "execution_count": null,
   "metadata": {
    "slideshow": {
     "slide_type": "skip"
    }
   },
   "outputs": [],
   "source": []
  },
  {
   "cell_type": "markdown",
   "metadata": {
    "slideshow": {
     "slide_type": "slide"
    }
   },
   "source": [
    "# Review\n",
    "\n",
    "- Docstrings: Information for humans\n",
    "- `import`: the libraries the computer will use\n",
    "- variables: nicknames yoo-hoo `board.D0` or yoo-hoo `speaker_pin`\n",
    "- variables: representing an object\n",
    "- Action\n",
    "\n",
    "**Exploration** helps you learn.\n"
   ]
  },
  {
   "cell_type": "markdown",
   "metadata": {
    "slideshow": {
     "slide_type": "slide"
    }
   },
   "source": [
    "# The ~~End~~ Beginning"
   ]
  },
  {
   "cell_type": "markdown",
   "metadata": {
    "slideshow": {
     "slide_type": "slide"
    }
   },
   "source": [
    "*Attribution*: Adafruit https://learn.adafruit.com/trinket-gemma-mini-theramin-music-maker/overview"
   ]
  },
  {
   "cell_type": "code",
   "execution_count": null,
   "metadata": {},
   "outputs": [],
   "source": []
  }
 ],
 "metadata": {
  "celltoolbar": "Slideshow",
  "kernelspec": {
   "display_name": "Python 3",
   "language": "python",
   "name": "python3"
  },
  "language_info": {
   "codemirror_mode": {
    "name": "ipython",
    "version": 3
   },
   "file_extension": ".py",
   "mimetype": "text/x-python",
   "name": "python",
   "nbconvert_exporter": "python",
   "pygments_lexer": "ipython3",
   "version": "3.6.5"
  }
 },
 "nbformat": 4,
 "nbformat_minor": 2
}

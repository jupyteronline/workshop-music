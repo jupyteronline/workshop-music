{
 "cells": [
  {
   "cell_type": "markdown",
   "metadata": {},
   "source": [
    "# Visualizing Music\n",
    "\n",
    "University of St. Thomas: Engineering Code & Cantus\n",
    "\n",
    "Dr. AnnMarie Thomas, Music and Engineering at University of St. Thomas"
   ]
  },
  {
   "cell_type": "code",
   "execution_count": null,
   "metadata": {},
   "outputs": [],
   "source": [
    "from IPython.display import HTML\n",
    "\n",
    "# Youtube\n",
    "HTML('<iframe width=\"640\" height=\"360\" src=\"https://www.youtube.com/embed/Y1x6bk8nvog\" frameborder=\"0\" allowfullscreen></iframe>')"
   ]
  },
  {
   "cell_type": "markdown",
   "metadata": {},
   "source": [
    "**Code+Chords** is a project blending computer science and music. Led by a group of women undergraduates with backgrounds in both engineering and music, the team is developing an open code source library for creating realtime visual displays based on multiple vocal inputs. Currently we are working with the professional ensemble, Cantus, creating treatments for their upcoming shows. \n",
    "\n",
    "Source: http://www.annmarie-thomas.com/codechords"
   ]
  },
  {
   "cell_type": "code",
   "execution_count": null,
   "metadata": {},
   "outputs": [],
   "source": []
  }
 ],
 "metadata": {
  "kernelspec": {
   "display_name": "Python 3",
   "language": "python",
   "name": "python3"
  },
  "language_info": {
   "codemirror_mode": {
    "name": "ipython",
    "version": 3
   },
   "file_extension": ".py",
   "mimetype": "text/x-python",
   "name": "python",
   "nbconvert_exporter": "python",
   "pygments_lexer": "ipython3",
   "version": "3.6.0"
  }
 },
 "nbformat": 4,
 "nbformat_minor": 2
}

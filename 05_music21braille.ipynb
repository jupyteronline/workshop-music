{
 "cells": [
  {
   "cell_type": "markdown",
   "metadata": {},
   "source": [
    "# Example - Braille"
   ]
  },
  {
   "cell_type": "code",
   "execution_count": 1,
   "metadata": {},
   "outputs": [
    {
     "data": {
      "image/png": "[encoded data removed]",
      "text/plain": [
       "<IPython.core.display.Image object>"
      ]
     },
     "metadata": {
      "image/png": {
       "height": 55,
       "width": 350
      }
     },
     "output_type": "display_data"
    }
   ],
   "source": [
    "from music21 import *\n",
    "from music21.braille import translate\n",
    "samplePart = converter.parse(\"tinynotation: 3/4 C4 D16 E F G# r4 e2.\")\n",
    "samplePart.show()"
   ]
  },
  {
   "cell_type": "code",
   "execution_count": 2,
   "metadata": {},
   "outputs": [
    {
     "name": "stdout",
     "output_type": "stream",
     "text": [
      "⠀⠀⠀⠀⠀⠀⠀⠼⠉⠲⠀⠀⠀⠀⠀⠀⠀\n",
      "⠼⠁⠀⠸⠹⠵⠋⠛⠩⠓⠧⠀⠐⠏⠄⠣⠅\n"
     ]
    }
   ],
   "source": [
    "print(translate.objectToBraille(samplePart))"
   ]
  },
  {
   "cell_type": "code",
   "execution_count": 3,
   "metadata": {},
   "outputs": [
    {
     "name": "stdout",
     "output_type": "stream",
     "text": [
      "⠀⠀⠀⠀⠀⠀⠀⠼⠉⠲⠀⠀⠀⠀⠀⠀⠀\n",
      "⠼⠁⠀⠸⠹⠵⠋⠛⠩⠓⠧⠀⠐⠏⠄⠣⠅\n"
     ]
    }
   ],
   "source": [
    "samplePart.show('braille')"
   ]
  },
  {
   "cell_type": "code",
   "execution_count": 4,
   "metadata": {},
   "outputs": [
    {
     "name": "stdout",
     "output_type": "stream",
     "text": [
      "⠠⠍⠕⠧⠑⠍⠑⠝⠞⠀⠠⠝⠁⠍⠑⠒⠀⠃⠺⠧⠼⠋⠑⠲⠃⠲⠰⠍⠭⠇\n",
      "⠀⠀⠀⠀⠀⠀⠀⠀⠀⠀⠀⠀⠀⠀⠀⠀⠀⠀⠼⠉⠲⠀⠀⠀⠀⠀⠀⠀⠀⠀⠀⠀⠀⠀⠀⠀⠀⠀⠀\n",
      "⠼⠚⠀⠐⠪⠀⠪⠪⠪⠀⠞⠺⠀⠹⠺⠪⠀⠗⠄⠣⠇⠀⠨⠝⠱⠀⠝⠺⠀⠝⠣⠇⠹⠀⠝⠹⠀⠞⠪\n",
      "⠀⠀⠐⠪⠺⠩⠳⠀⠎⠣⠇⠪⠀⠗⠪⠀⠞⠺⠀⠝⠺⠀⠎⠩⠳⠀⠎⠄⠣⠇⠣⠅\n",
      "⠀⠀⠀⠀⠀⠀⠀⠀⠀⠀⠀⠀⠀⠀⠀⠀⠼⠉⠲⠀⠀⠀⠀⠀⠀⠀⠀⠀⠀⠀⠀⠀⠀⠀⠀⠀\n",
      "⠼⠚⠀⠐⠫⠀⠫⠫⠪⠀⠗⠳⠀⠗⠻⠀⠏⠄⠀⠗⠩⠳⠀⠎⠡⠳⠀⠗⠳⠀⠎⠩⠻⠀⠗⠳\n",
      "⠀⠀⠐⠳⠩⠻⠫⠀⠏⠱⠀⠱⠫⠱⠀⠕⠻⠀⠫⠻⠳⠈⠉⠀⠳⠩⠻⠫⠀⠏⠄⠣⠅\n",
      "⠀⠀⠀⠀⠀⠀⠀⠀⠀⠀⠀⠀⠀⠀⠀⠀⠀⠀⠼⠉⠲⠀⠀⠀⠀⠀⠀⠀⠀⠀⠀⠀⠀⠀⠀⠀⠀⠀⠀\n",
      "⠼⠚⠀⠐⠹⠀⠹⠹⠱⠀⠕⠱⠀⠹⠫⠹⠀⠝⠄⠀⠏⠄⠈⠉⠀⠫⠱⠱⠀⠏⠫⠀⠫⠱⠱⠀⠱⠫⠫\n",
      "⠀⠀⠐⠱⠺⠺⠀⠝⠪⠀⠺⠹⠪⠀⠳⠺⠱⠀⠹⠕⠀⠝⠺⠀⠩⠝⠄⠣⠅\n",
      "⠀⠀⠀⠀⠀⠀⠀⠀⠀⠀⠀⠀⠀⠀⠀⠀⠀⠼⠉⠲⠀⠀⠀⠀⠀⠀⠀⠀⠀⠀⠀⠀⠀⠀⠀⠀⠀\n",
      "⠼⠚⠀⠘⠪⠀⠸⠪⠳⠩⠻⠀⠳⠱⠡⠻⠀⠫⠹⠻⠀⠝⠄⠀⠹⠐⠹⠺⠀⠪⠩⠻⠳⠀⠝⠐⠹\n",
      "⠀⠀⠸⠪⠩⠻⠱⠀⠳⠫⠩⠹⠀⠱⠩⠱⠫⠀⠘⠎⠸⠻⠀⠻⠫⠩⠻⠀⠳⠩⠻⠩⠳⠀⠪⠱⠫\n",
      "⠀⠀⠸⠻⠩⠱⠫⠀⠘⠎⠄⠣⠅\n"
     ]
    }
   ],
   "source": [
    "bach = corpus.parse('bach/bwv65.2.xml')\n",
    "bach.show('braille')"
   ]
  },
  {
   "cell_type": "code",
   "execution_count": null,
   "metadata": {},
   "outputs": [],
   "source": []
  }
 ],
 "metadata": {
  "kernelspec": {
   "display_name": "Python 3",
   "language": "python",
   "name": "python3"
  },
  "language_info": {
   "codemirror_mode": {
    "name": "ipython",
    "version": 3
   },
   "file_extension": ".py",
   "mimetype": "text/x-python",
   "name": "python",
   "nbconvert_exporter": "python",
   "pygments_lexer": "ipython3",
   "version": "3.6.5"
  }
 },
 "nbformat": 4,
 "nbformat_minor": 2
}
